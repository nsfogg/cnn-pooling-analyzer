{
  "cells": [
    {
      "cell_type": "markdown",
      "metadata": {
        "id": "view-in-github",
        "colab_type": "text"
      },
      "source": [
        "<a href=\"https://colab.research.google.com/github/nsfogg/cnn-pooling-analyzer/blob/main/adl_project_code_fogg_sweasey.ipynb\" target=\"_parent\"><img src=\"https://colab.research.google.com/assets/colab-badge.svg\" alt=\"Open In Colab\"/></a>"
      ]
    },
    {
      "cell_type": "markdown",
      "id": "ptACZyYEXiii",
      "metadata": {
        "id": "ptACZyYEXiii"
      },
      "source": [
        "## CNN Analyzer"
      ]
    },
    {
      "cell_type": "code",
      "execution_count": null,
      "id": "92ce90c8-58c5-4d26-a689-dc72a36acf0f",
      "metadata": {
        "id": "92ce90c8-58c5-4d26-a689-dc72a36acf0f"
      },
      "outputs": [],
      "source": [
        "# Import torch, torch datasets, and other necessary packages\n",
        "import torch\n",
        "import torchvision.datasets as datasets\n",
        "import torchvision.transforms as transform\n",
        "import os\n",
        "import sys\n",
        "import numpy as py\n",
        "import matplotlib.pyplot as plt"
      ]
    },
    {
      "cell_type": "code",
      "execution_count": null,
      "id": "495c2b7b-4dda-4483-867e-3cee49f1e0cc",
      "metadata": {
        "id": "495c2b7b-4dda-4483-867e-3cee49f1e0cc"
      },
      "outputs": [],
      "source": [
        "# Determine what device is running through CoLab servers.\n",
        "# All testing was performed using cuda under Google server's T4 GPU\n",
        "device = \"cuda\" if torch.cuda.is_available() else \"cpu\"\n",
        "device"
      ]
    },
    {
      "cell_type": "code",
      "source": [
        "# Create tensor transformation tool\n",
        "toTensor = transform.ToTensor()\n",
        "\n",
        "# Set the dataset to use, this example uses MNIST\n",
        "data = datasets.MNIST\n",
        "\n",
        "# Since FER2013 is not a dataset in torch, using it requires different steps\n",
        "if data == datasets.FER2013:\n",
        "  # Necessary for FER2013 dataset as dataset is not local to pytorch\n",
        "  # Needs to be accessed from google drive\n",
        "  from google.colab import drive\n",
        "\n",
        "  # Connect to local google drive to view dataset csv saved there\n",
        "  drive.mount('/content/drive')\n",
        "\n",
        "  # Since using FER2013, root connects to google drive\n",
        "  root = \"/content/drive/MyDrive\"\n",
        "\n",
        "  # Set up train and test sets for cnn to refer to, transforming data to tensors\n",
        "  train = data(root=root, split=\"train\", transform=toTensor)\n",
        "  test = data(root=root, split=\"test\", transform=toTensor)\n",
        "else:\n",
        "  # Set up train and test sets for cnn to refer to, download necessary data\n",
        "  train = data(root='./data', train=True, download=True, transform=toTensor)\n",
        "  test = data(root='./data', train=False, download=True, transform=toTensor)\n",
        "\n",
        "# Create labels for the cnn to classify, depending on dataset\n",
        "\n",
        "# labels = ['airplane', 'automobile', 'bird', 'cat', 'deer', 'dog', 'frog', 'horse', 'ship', 'truck'] # CIFAR10\n",
        "labels = list(range(0,10)) # MNIST\n",
        "# labels = [1, 2, 3, 4, 5, 6] #FER2013\n",
        "\n",
        "labels"
      ],
      "metadata": {
        "id": "BjqbgaV9MCI0"
      },
      "id": "BjqbgaV9MCI0",
      "execution_count": null,
      "outputs": []
    },
    {
      "cell_type": "code",
      "execution_count": null,
      "id": "c100e239-297c-46c2-a7c1-64d2f75efa82",
      "metadata": {
        "id": "c100e239-297c-46c2-a7c1-64d2f75efa82"
      },
      "outputs": [],
      "source": [
        "# Create iterator of train dataset to create trainable batches\n",
        "train_iter = iter(train)"
      ]
    },
    {
      "cell_type": "code",
      "execution_count": null,
      "id": "cbc72e72-afb5-43a7-9a4e-0da6060d83e0",
      "metadata": {
        "id": "cbc72e72-afb5-43a7-9a4e-0da6060d83e0"
      },
      "outputs": [],
      "source": [
        "# Collect an image and label from the train dataset\n",
        "image, label = next(train_iter)\n",
        "\n",
        "# This shows a sample image. This is what the machine is processing\n",
        "image.shape\n",
        "np_img = image.numpy()\n",
        "print(np_img.shape)\n",
        "print(labels[label])\n",
        "# The size of the image depends on the how the dataset stores them\n",
        "plt.imshow(np_img.reshape((28, 28, 1)))\n",
        "# plt.imshow(np_img.reshape((32, 32, 3)))\n",
        "# plt.imshow(np_img.transpose((1, 2, 0)))"
      ]
    },
    {
      "cell_type": "code",
      "execution_count": null,
      "id": "40032471-3fed-41c7-b27d-9ac8652950e8",
      "metadata": {
        "id": "40032471-3fed-41c7-b27d-9ac8652950e8"
      },
      "outputs": [],
      "source": [
        "# Split training dataset into training and validation\n",
        "train, validate = torch.utils.data.random_split(train, [50000, 10000])\n",
        "# Display the samples in train, validate, and test sets\n",
        "len(train), len(validate), len(test)"
      ]
    },
    {
      "cell_type": "code",
      "execution_count": null,
      "id": "bf19f508-e69d-4c14-937a-27832adcb0a4",
      "metadata": {
        "id": "bf19f508-e69d-4c14-937a-27832adcb0a4"
      },
      "outputs": [],
      "source": [
        "# Create dataloaders for train and validate sets. Allows the data to be iterated over\n",
        "import torch.utils.data.dataloader as dl\n",
        "\n",
        "# Specifies how many images are processed per iteration\n",
        "batch_size = 8\n",
        "\n",
        "trainloader = dl.DataLoader(train, batch_size = batch_size,\n",
        "                              shuffle=True, num_workers=2)\n",
        "valloader = dl.DataLoader(validate, batch_size = batch_size,\n",
        "                          shuffle=False, num_workers=2)"
      ]
    },
    {
      "cell_type": "code",
      "execution_count": null,
      "id": "453fa6a9-b56a-4211-a473-e6b8a162f14b",
      "metadata": {
        "id": "453fa6a9-b56a-4211-a473-e6b8a162f14b"
      },
      "outputs": [],
      "source": [
        "import torch.nn as nn\n",
        "import torch.nn.functional as F\n",
        "\n",
        "# Build the nerual network\n",
        "class NeuralNet(nn.Module):\n",
        "    def __init__(self):\n",
        "        super().__init__()\n",
        "\n",
        "        # Some layers must be slightly altered depending on input size\n",
        "        self.conv1 = nn.Conv2d(1, 256, 3)\n",
        "        # self.conv1 = nn.Conv2d(1, 256, 2)\n",
        "        self.pool1 = nn.AdaptiveAvgPool2d(2) # Changed depending on which trial is being run\n",
        "\n",
        "        # self.conv2 = nn.Conv2d(256, 512, 3)\n",
        "        self.conv2 = nn.Conv2d(256, 512, 2)\n",
        "        self.pool2 = nn.AdaptiveAvgPool2d(2)\n",
        "\n",
        "        self.conv3 = nn.Conv2d(512, 1024, 2)\n",
        "        self.pool3 = nn.AdaptiveAvgPool2d(2)\n",
        "\n",
        "        self.flatten = nn.Flatten()\n",
        "\n",
        "        # This depends on input size. Adjusted based on error message\n",
        "        self.fc1 = nn.Linear(4096, 1024)\n",
        "        # self.fc1 = nn.Linear(25600, 1024)\n",
        "\n",
        "        self.drop1 = nn.Dropout(p=0.3)\n",
        "\n",
        "        self.fc2 = nn.Linear(1024, 1024)\n",
        "        self.drop2 = nn.Dropout(p=0.3)\n",
        "\n",
        "        self.out = nn.Linear(1024, 10)\n",
        "\n",
        "    def forward(self, x):\n",
        "        x = self.conv1(x)\n",
        "        x = F.relu(x)\n",
        "        x = self.pool1(x)\n",
        "\n",
        "        x = self.conv2(x)\n",
        "        x = F.relu(x)\n",
        "        x = self.pool2(x)\n",
        "\n",
        "        x = self.conv3(x)\n",
        "        x = F.relu(x)\n",
        "        x = self.pool3(x)\n",
        "\n",
        "        x = self.flatten(x)\n",
        "\n",
        "        x = self.fc1(x)\n",
        "        x = F.relu(x)\n",
        "        x = self.drop1(x)\n",
        "\n",
        "        x = self.fc2(x)\n",
        "        x = F.relu(x)\n",
        "        x = self.drop2(x)\n",
        "\n",
        "        x = self.out(x)\n",
        "\n",
        "        return x\n"
      ]
    },
    {
      "cell_type": "code",
      "execution_count": null,
      "id": "84e21f40-aa54-4125-a474-672e208b68a6",
      "metadata": {
        "id": "84e21f40-aa54-4125-a474-672e208b68a6"
      },
      "outputs": [],
      "source": [
        "net = NeuralNet()\n",
        "net.to(device)"
      ]
    },
    {
      "cell_type": "code",
      "execution_count": null,
      "id": "142c1741-a40f-418e-ad71-79e660373bdf",
      "metadata": {
        "id": "142c1741-a40f-418e-ad71-79e660373bdf"
      },
      "outputs": [],
      "source": [
        "# Define our loss function, optimization function, and learning rate\n",
        "import torch.optim as op\n",
        "\n",
        "\n",
        "criterion = nn.CrossEntropyLoss()\n",
        "optimizer = op.Adam(net.parameters(), lr=0.0001)"
      ]
    },
    {
      "cell_type": "code",
      "execution_count": null,
      "id": "75b33a99-80c8-45ea-9e93-433a41867700",
      "metadata": {
        "id": "75b33a99-80c8-45ea-9e93-433a41867700"
      },
      "outputs": [],
      "source": [
        "# Defines how one epoch is trained\n",
        "def train_epoch():\n",
        "    net.train(True)\n",
        "\n",
        "    # Keep track of loss and accuracy throughout the epoch\n",
        "    running_loss = 0.0\n",
        "    running_accuracy = 0.0\n",
        "\n",
        "    # Training loop\n",
        "    for batch_index, data in enumerate(trainloader):\n",
        "        # Load data to appropriate device (T4 GPU in this case)\n",
        "        inputs, labels = data[0].to(device), data[1].to(device)\n",
        "        # Set gradient to zero\n",
        "        optimizer.zero_grad()\n",
        "\n",
        "        # Runs the neural network, generates outputs, and calculates accuracy\n",
        "        outputs = net(inputs)\n",
        "        correct = torch.sum(labels == torch.argmax(outputs, dim=1)).item()\n",
        "        running_accuracy += correct / batch_size\n",
        "\n",
        "        # Calculates loss and runs backpropogation\n",
        "        loss = criterion(outputs, labels)\n",
        "        running_loss += loss.item()\n",
        "        loss.backward()\n",
        "        optimizer.step()\n",
        "\n",
        "        # Prints every 500 batches\n",
        "        if batch_index % 500 == 499:\n",
        "            avg_loss_across_batches = running_loss / 500\n",
        "            avg_acc_across_batches = (running_accuracy / 500) * 100\n",
        "            print('Batch {0}, Loss: {1:.3f}, Accuracy: {2:.1f}%'.format(batch_index+1, avg_loss_across_batches, avg_acc_across_batches))\n",
        "\n",
        "            running_loss = 0.0\n",
        "            running_accuracy = 0.0\n",
        "\n",
        "    print('-----------------------------------------------------------------------')\n",
        "\n",
        "\n"
      ]
    },
    {
      "cell_type": "code",
      "execution_count": null,
      "id": "c2f0bbfa-d4d3-49e1-bb2c-f4c15530cf80",
      "metadata": {
        "id": "c2f0bbfa-d4d3-49e1-bb2c-f4c15530cf80"
      },
      "outputs": [],
      "source": [
        "# Defines how one epoch is validated/tested\n",
        "def validate_epoch():\n",
        "    net.train(False)\n",
        "    running_loss = 0.0\n",
        "    running_accuracy = 0.0\n",
        "\n",
        "    # Validation loop\n",
        "    for i, data in enumerate(valloader):\n",
        "        # Load data to appropriate device (T4 GPU in this case)\n",
        "        inputs, labels = data[0].to(device), data[1].to(device)\n",
        "\n",
        "        # Does not run backwards propogation; instead just calculates loss and accuracy\n",
        "        with torch.no_grad():\n",
        "            outputs = net(inputs)\n",
        "            correct = torch.sum(labels == torch.argmax(outputs, dim=1)).item()\n",
        "            running_accuracy += correct / batch_size\n",
        "            loss = criterion(outputs, labels)\n",
        "            running_loss += loss.item()\n",
        "\n",
        "    avg_loss_across_batches = running_loss / len(valloader)\n",
        "    avg_acc_across_batches = (running_accuracy / len(valloader)) * 100\n",
        "\n",
        "    print('Val Loss: {0:.3f}, Val Accuracy: {1:.1f}%;'.format(avg_loss_across_batches, avg_acc_across_batches))\n",
        "    print('-----------------------------------------------------------------------')"
      ]
    },
    {
      "cell_type": "code",
      "execution_count": null,
      "id": "475e4c4c-6bcd-4289-9b8f-a34a27d7132f",
      "metadata": {
        "id": "475e4c4c-6bcd-4289-9b8f-a34a27d7132f"
      },
      "outputs": [],
      "source": [
        "# How many generations to train for. Higher number will train for longer\n",
        "\n",
        "num_epochs = 10 # change this if you want\n",
        "\n",
        "# Train and validate for each epoch\n",
        "for epoch_index in range(num_epochs):\n",
        "    print(f'Epoch: {epoch_index + 1}\\n')\n",
        "    train_epoch()\n",
        "    validate_epoch()\n",
        "\n",
        "print('Finished! :)')\n"
      ]
    },
    {
      "cell_type": "code",
      "source": [],
      "metadata": {
        "id": "xY_yWhK7CYQR"
      },
      "id": "xY_yWhK7CYQR",
      "execution_count": null,
      "outputs": []
    }
  ],
  "metadata": {
    "accelerator": "GPU",
    "colab": {
      "gpuType": "T4",
      "provenance": [],
      "include_colab_link": true
    },
    "kernelspec": {
      "display_name": "Python 3",
      "name": "python3"
    },
    "language_info": {
      "codemirror_mode": {
        "name": "ipython",
        "version": 3
      },
      "file_extension": ".py",
      "mimetype": "text/x-python",
      "name": "python",
      "nbconvert_exporter": "python",
      "pygments_lexer": "ipython3",
      "version": "3.10.0"
    }
  },
  "nbformat": 4,
  "nbformat_minor": 5
}